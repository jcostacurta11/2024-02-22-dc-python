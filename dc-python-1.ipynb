{
 "cells": [
  {
   "cell_type": "code",
   "execution_count": 44,
   "id": "ef7220fa",
   "metadata": {},
   "outputs": [
    {
     "name": "stdout",
     "output_type": "stream",
     "text": [
      "learning more Python\n"
     ]
    }
   ],
   "source": [
    "print(\"learning more Python\")"
   ]
  },
  {
   "cell_type": "code",
   "execution_count": 45,
   "id": "a6443ba2",
   "metadata": {},
   "outputs": [
    {
     "data": {
      "text/plain": [
       "4"
      ]
     },
     "execution_count": 45,
     "metadata": {},
     "output_type": "execute_result"
    }
   ],
   "source": [
    "2 + 2"
   ]
  },
  {
   "cell_type": "code",
   "execution_count": 46,
   "id": "a50b925e",
   "metadata": {},
   "outputs": [
    {
     "name": "stdout",
     "output_type": "stream",
     "text": [
      "learning Python\n"
     ]
    }
   ],
   "source": [
    "print(\"learning Python\")"
   ]
  },
  {
   "cell_type": "code",
   "execution_count": 47,
   "id": "be586f97",
   "metadata": {},
   "outputs": [],
   "source": [
    "text = \"Data Carpentry\""
   ]
  },
  {
   "cell_type": "code",
   "execution_count": 48,
   "id": "e5c7e143",
   "metadata": {},
   "outputs": [],
   "source": [
    "number = 42"
   ]
  },
  {
   "cell_type": "code",
   "execution_count": 49,
   "id": "0fe02f2b",
   "metadata": {},
   "outputs": [],
   "source": [
    "decimal = 3.14"
   ]
  },
  {
   "cell_type": "code",
   "execution_count": 50,
   "id": "4dfcd7c4",
   "metadata": {},
   "outputs": [
    {
     "data": {
      "text/plain": [
       "45.14"
      ]
     },
     "execution_count": 50,
     "metadata": {},
     "output_type": "execute_result"
    }
   ],
   "source": [
    "number + decimal"
   ]
  },
  {
   "cell_type": "code",
   "execution_count": 52,
   "id": "4c9f6a19",
   "metadata": {},
   "outputs": [],
   "source": [
    "# text + decimal # type whatever we want after the #"
   ]
  },
  {
   "cell_type": "code",
   "execution_count": null,
   "id": "31900c43",
   "metadata": {},
   "outputs": [],
   "source": [
    "type(text)"
   ]
  },
  {
   "cell_type": "code",
   "execution_count": null,
   "id": "bf79c7e3",
   "metadata": {},
   "outputs": [],
   "source": [
    "type(number)"
   ]
  },
  {
   "cell_type": "code",
   "execution_count": null,
   "id": "31282b89",
   "metadata": {},
   "outputs": [],
   "source": [
    "type(decimal)"
   ]
  },
  {
   "cell_type": "code",
   "execution_count": null,
   "id": "0551114c",
   "metadata": {},
   "outputs": [],
   "source": [
    "text + text"
   ]
  },
  {
   "cell_type": "code",
   "execution_count": null,
   "id": "e8c348a2",
   "metadata": {},
   "outputs": [],
   "source": [
    "number + number"
   ]
  },
  {
   "cell_type": "code",
   "execution_count": null,
   "id": "3e14d821",
   "metadata": {},
   "outputs": [],
   "source": [
    "number - decimal"
   ]
  },
  {
   "cell_type": "code",
   "execution_count": null,
   "id": "c623a879",
   "metadata": {},
   "outputs": [],
   "source": [
    "text - text"
   ]
  },
  {
   "cell_type": "code",
   "execution_count": null,
   "id": "b3ccff31",
   "metadata": {},
   "outputs": [],
   "source": [
    "8 * 8"
   ]
  },
  {
   "cell_type": "code",
   "execution_count": null,
   "id": "e80d6983",
   "metadata": {},
   "outputs": [],
   "source": [
    "2 ** 16"
   ]
  },
  {
   "cell_type": "code",
   "execution_count": null,
   "id": "36e8bfc3",
   "metadata": {},
   "outputs": [],
   "source": [
    "numbers = [1, 2, 3, 4]"
   ]
  },
  {
   "cell_type": "code",
   "execution_count": null,
   "id": "3275e2fd",
   "metadata": {},
   "outputs": [],
   "source": [
    "numbers"
   ]
  },
  {
   "cell_type": "code",
   "execution_count": null,
   "id": "e7fe671f",
   "metadata": {},
   "outputs": [],
   "source": [
    "numbers[1]"
   ]
  },
  {
   "cell_type": "code",
   "execution_count": null,
   "id": "db42b346",
   "metadata": {},
   "outputs": [],
   "source": [
    "numbers[0]"
   ]
  },
  {
   "cell_type": "code",
   "execution_count": null,
   "id": "885c8474",
   "metadata": {},
   "outputs": [],
   "source": [
    "numbers[3]"
   ]
  },
  {
   "cell_type": "code",
   "execution_count": null,
   "id": "3f89bdb0",
   "metadata": {},
   "outputs": [],
   "source": [
    "numbers[-1]"
   ]
  },
  {
   "cell_type": "code",
   "execution_count": null,
   "id": "88d3c25e",
   "metadata": {},
   "outputs": [],
   "source": [
    "numbers[-2]"
   ]
  },
  {
   "cell_type": "code",
   "execution_count": null,
   "id": "4b615970",
   "metadata": {},
   "outputs": [],
   "source": [
    "text + text"
   ]
  },
  {
   "cell_type": "code",
   "execution_count": null,
   "id": "cecdac29",
   "metadata": {},
   "outputs": [],
   "source": [
    "text + \" \" + text"
   ]
  },
  {
   "cell_type": "code",
   "execution_count": null,
   "id": "3cb6df3f",
   "metadata": {},
   "outputs": [],
   "source": [
    "print(text)"
   ]
  },
  {
   "cell_type": "code",
   "execution_count": null,
   "id": "228331dd",
   "metadata": {},
   "outputs": [],
   "source": [
    "print(text, text)"
   ]
  },
  {
   "cell_type": "code",
   "execution_count": null,
   "id": "dc80b8f0",
   "metadata": {},
   "outputs": [],
   "source": [
    "print(\"hello\",\"and\",\"welcome\")"
   ]
  },
  {
   "cell_type": "code",
   "execution_count": null,
   "id": "9629652b",
   "metadata": {},
   "outputs": [],
   "source": [
    "print(\"Hello\", \"World!\")"
   ]
  },
  {
   "cell_type": "code",
   "execution_count": 41,
   "id": "0e6fd183",
   "metadata": {},
   "outputs": [],
   "source": [
    "numbers = [1, 2, 3, 4]"
   ]
  },
  {
   "cell_type": "code",
   "execution_count": 42,
   "id": "86351c65",
   "metadata": {},
   "outputs": [],
   "source": [
    "numbers = [5, 6, 7, 8]"
   ]
  },
  {
   "cell_type": "code",
   "execution_count": 43,
   "id": "34e1f901",
   "metadata": {},
   "outputs": [
    {
     "data": {
      "text/plain": [
       "[5, 6, 7, 8]"
      ]
     },
     "execution_count": 43,
     "metadata": {},
     "output_type": "execute_result"
    }
   ],
   "source": [
    "numbers"
   ]
  },
  {
   "cell_type": "code",
   "execution_count": 37,
   "id": "81076795",
   "metadata": {},
   "outputs": [
    {
     "name": "stdout",
     "output_type": "stream",
     "text": [
      "5\n",
      "6\n",
      "7\n",
      "8\n"
     ]
    }
   ],
   "source": [
    "for num in numbers:\n",
    "    print(num)"
   ]
  },
  {
   "cell_type": "code",
   "execution_count": 38,
   "id": "2e7a7150",
   "metadata": {},
   "outputs": [
    {
     "ename": "IndentationError",
     "evalue": "expected an indented block (321773209.py, line 2)",
     "output_type": "error",
     "traceback": [
      "\u001b[0;36m  Cell \u001b[0;32mIn[38], line 2\u001b[0;36m\u001b[0m\n\u001b[0;31m    print(num)\u001b[0m\n\u001b[0m    ^\u001b[0m\n\u001b[0;31mIndentationError\u001b[0m\u001b[0;31m:\u001b[0m expected an indented block\n"
     ]
    }
   ],
   "source": [
    "for num in numbers:\n",
    "print(num)"
   ]
  },
  {
   "cell_type": "code",
   "execution_count": 39,
   "id": "286268fa",
   "metadata": {},
   "outputs": [
    {
     "name": "stdout",
     "output_type": "stream",
     "text": [
      "5\n",
      "6\n",
      "7\n",
      "8\n",
      "finished!\n"
     ]
    }
   ],
   "source": [
    "for num in numbers: # creating a loop\n",
    "    print(num)\n",
    "print(\"finished!\")"
   ]
  },
  {
   "cell_type": "code",
   "execution_count": 40,
   "id": "ed2925fe",
   "metadata": {},
   "outputs": [
    {
     "name": "stdout",
     "output_type": "stream",
     "text": [
      "5\n",
      "finished!\n",
      "6\n",
      "finished!\n",
      "7\n",
      "finished!\n",
      "8\n",
      "finished!\n"
     ]
    }
   ],
   "source": [
    "for num in numbers:\n",
    "    print(num)\n",
    "    print(\"finished!\")"
   ]
  },
  {
   "cell_type": "code",
   "execution_count": 53,
   "id": "bb9d227e",
   "metadata": {},
   "outputs": [
    {
     "data": {
      "text/plain": [
       "[5, 6, 7, 8]"
      ]
     },
     "execution_count": 53,
     "metadata": {},
     "output_type": "execute_result"
    }
   ],
   "source": [
    "numbers"
   ]
  },
  {
   "cell_type": "code",
   "execution_count": 54,
   "id": "05992c91",
   "metadata": {},
   "outputs": [],
   "source": [
    "numbers.append(9)"
   ]
  },
  {
   "cell_type": "code",
   "execution_count": 55,
   "id": "0cc593bd",
   "metadata": {},
   "outputs": [
    {
     "data": {
      "text/plain": [
       "[5, 6, 7, 8, 9]"
      ]
     },
     "execution_count": 55,
     "metadata": {},
     "output_type": "execute_result"
    }
   ],
   "source": [
    "numbers"
   ]
  },
  {
   "cell_type": "code",
   "execution_count": 56,
   "id": "257ac986",
   "metadata": {},
   "outputs": [
    {
     "data": {
      "text/plain": [
       "list"
      ]
     },
     "execution_count": 56,
     "metadata": {},
     "output_type": "execute_result"
    }
   ],
   "source": [
    "type(numbers)"
   ]
  },
  {
   "cell_type": "code",
   "execution_count": 57,
   "id": "3513fbef",
   "metadata": {},
   "outputs": [],
   "source": [
    "numbers.clear?"
   ]
  },
  {
   "cell_type": "code",
   "execution_count": 58,
   "id": "8a587c81",
   "metadata": {},
   "outputs": [],
   "source": [
    "numbers.clear()"
   ]
  },
  {
   "cell_type": "code",
   "execution_count": 59,
   "id": "8c8bee00",
   "metadata": {},
   "outputs": [
    {
     "data": {
      "text/plain": [
       "[]"
      ]
     },
     "execution_count": 59,
     "metadata": {},
     "output_type": "execute_result"
    }
   ],
   "source": [
    "numbers"
   ]
  },
  {
   "cell_type": "code",
   "execution_count": 60,
   "id": "c0041979",
   "metadata": {},
   "outputs": [
    {
     "name": "stdout",
     "output_type": "stream",
     "text": [
      "Help on built-in function clear:\n",
      "\n",
      "clear() method of builtins.list instance\n",
      "    Remove all items from list.\n",
      "\n"
     ]
    }
   ],
   "source": [
    "help(numbers.clear)"
   ]
  },
  {
   "cell_type": "code",
   "execution_count": 61,
   "id": "877a5823",
   "metadata": {},
   "outputs": [
    {
     "name": "stdout",
     "output_type": "stream",
     "text": [
      "Help on list object:\n",
      "\n",
      "class list(object)\n",
      " |  list(iterable=(), /)\n",
      " |  \n",
      " |  Built-in mutable sequence.\n",
      " |  \n",
      " |  If no argument is given, the constructor creates a new empty list.\n",
      " |  The argument must be an iterable if specified.\n",
      " |  \n",
      " |  Methods defined here:\n",
      " |  \n",
      " |  __add__(self, value, /)\n",
      " |      Return self+value.\n",
      " |  \n",
      " |  __contains__(self, key, /)\n",
      " |      Return key in self.\n",
      " |  \n",
      " |  __delitem__(self, key, /)\n",
      " |      Delete self[key].\n",
      " |  \n",
      " |  __eq__(self, value, /)\n",
      " |      Return self==value.\n",
      " |  \n",
      " |  __ge__(self, value, /)\n",
      " |      Return self>=value.\n",
      " |  \n",
      " |  __getattribute__(self, name, /)\n",
      " |      Return getattr(self, name).\n",
      " |  \n",
      " |  __getitem__(...)\n",
      " |      x.__getitem__(y) <==> x[y]\n",
      " |  \n",
      " |  __gt__(self, value, /)\n",
      " |      Return self>value.\n",
      " |  \n",
      " |  __iadd__(self, value, /)\n",
      " |      Implement self+=value.\n",
      " |  \n",
      " |  __imul__(self, value, /)\n",
      " |      Implement self*=value.\n",
      " |  \n",
      " |  __init__(self, /, *args, **kwargs)\n",
      " |      Initialize self.  See help(type(self)) for accurate signature.\n",
      " |  \n",
      " |  __iter__(self, /)\n",
      " |      Implement iter(self).\n",
      " |  \n",
      " |  __le__(self, value, /)\n",
      " |      Return self<=value.\n",
      " |  \n",
      " |  __len__(self, /)\n",
      " |      Return len(self).\n",
      " |  \n",
      " |  __lt__(self, value, /)\n",
      " |      Return self<value.\n",
      " |  \n",
      " |  __mul__(self, value, /)\n",
      " |      Return self*value.\n",
      " |  \n",
      " |  __ne__(self, value, /)\n",
      " |      Return self!=value.\n",
      " |  \n",
      " |  __repr__(self, /)\n",
      " |      Return repr(self).\n",
      " |  \n",
      " |  __reversed__(self, /)\n",
      " |      Return a reverse iterator over the list.\n",
      " |  \n",
      " |  __rmul__(self, value, /)\n",
      " |      Return value*self.\n",
      " |  \n",
      " |  __setitem__(self, key, value, /)\n",
      " |      Set self[key] to value.\n",
      " |  \n",
      " |  __sizeof__(self, /)\n",
      " |      Return the size of the list in memory, in bytes.\n",
      " |  \n",
      " |  append(self, object, /)\n",
      " |      Append object to the end of the list.\n",
      " |  \n",
      " |  clear(self, /)\n",
      " |      Remove all items from list.\n",
      " |  \n",
      " |  copy(self, /)\n",
      " |      Return a shallow copy of the list.\n",
      " |  \n",
      " |  count(self, value, /)\n",
      " |      Return number of occurrences of value.\n",
      " |  \n",
      " |  extend(self, iterable, /)\n",
      " |      Extend list by appending elements from the iterable.\n",
      " |  \n",
      " |  index(self, value, start=0, stop=9223372036854775807, /)\n",
      " |      Return first index of value.\n",
      " |      \n",
      " |      Raises ValueError if the value is not present.\n",
      " |  \n",
      " |  insert(self, index, object, /)\n",
      " |      Insert object before index.\n",
      " |  \n",
      " |  pop(self, index=-1, /)\n",
      " |      Remove and return item at index (default last).\n",
      " |      \n",
      " |      Raises IndexError if list is empty or index is out of range.\n",
      " |  \n",
      " |  remove(self, value, /)\n",
      " |      Remove first occurrence of value.\n",
      " |      \n",
      " |      Raises ValueError if the value is not present.\n",
      " |  \n",
      " |  reverse(self, /)\n",
      " |      Reverse *IN PLACE*.\n",
      " |  \n",
      " |  sort(self, /, *, key=None, reverse=False)\n",
      " |      Sort the list in ascending order and return None.\n",
      " |      \n",
      " |      The sort is in-place (i.e. the list itself is modified) and stable (i.e. the\n",
      " |      order of two equal elements is maintained).\n",
      " |      \n",
      " |      If a key function is given, apply it once to each list item and sort them,\n",
      " |      ascending or descending, according to their function values.\n",
      " |      \n",
      " |      The reverse flag can be set to sort in descending order.\n",
      " |  \n",
      " |  ----------------------------------------------------------------------\n",
      " |  Class methods defined here:\n",
      " |  \n",
      " |  __class_getitem__(...) from builtins.type\n",
      " |      See PEP 585\n",
      " |  \n",
      " |  ----------------------------------------------------------------------\n",
      " |  Static methods defined here:\n",
      " |  \n",
      " |  __new__(*args, **kwargs) from builtins.type\n",
      " |      Create and return a new object.  See help(type) for accurate signature.\n",
      " |  \n",
      " |  ----------------------------------------------------------------------\n",
      " |  Data and other attributes defined here:\n",
      " |  \n",
      " |  __hash__ = None\n",
      "\n"
     ]
    }
   ],
   "source": [
    "help(numbers)"
   ]
  },
  {
   "cell_type": "code",
   "execution_count": 62,
   "id": "6b64949c",
   "metadata": {},
   "outputs": [],
   "source": [
    "# Tuples\n",
    "a_tuple = (1, 2, 3)\n",
    "a_list  = [1, 2, 3]"
   ]
  },
  {
   "cell_type": "code",
   "execution_count": 63,
   "id": "9761fb73",
   "metadata": {},
   "outputs": [],
   "source": [
    "a_list[1] = 5"
   ]
  },
  {
   "cell_type": "code",
   "execution_count": 64,
   "id": "cf43b59e",
   "metadata": {},
   "outputs": [
    {
     "data": {
      "text/plain": [
       "[1, 5, 3]"
      ]
     },
     "execution_count": 64,
     "metadata": {},
     "output_type": "execute_result"
    }
   ],
   "source": [
    "a_list"
   ]
  },
  {
   "cell_type": "code",
   "execution_count": 65,
   "id": "437de53e",
   "metadata": {},
   "outputs": [
    {
     "ename": "TypeError",
     "evalue": "'tuple' object does not support item assignment",
     "output_type": "error",
     "traceback": [
      "\u001b[0;31m---------------------------------------------------------------------------\u001b[0m",
      "\u001b[0;31mTypeError\u001b[0m                                 Traceback (most recent call last)",
      "Cell \u001b[0;32mIn[65], line 1\u001b[0m\n\u001b[0;32m----> 1\u001b[0m a_tuple[\u001b[38;5;241m2\u001b[39m] \u001b[38;5;241m=\u001b[39m \u001b[38;5;241m5\u001b[39m\n",
      "\u001b[0;31mTypeError\u001b[0m: 'tuple' object does not support item assignment"
     ]
    }
   ],
   "source": [
    "a_tuple[2] = 5"
   ]
  },
  {
   "cell_type": "code",
   "execution_count": 66,
   "id": "5f6b916b",
   "metadata": {},
   "outputs": [
    {
     "data": {
      "text/plain": [
       "tuple"
      ]
     },
     "execution_count": 66,
     "metadata": {},
     "output_type": "execute_result"
    }
   ],
   "source": [
    "type(a_tuple)"
   ]
  },
  {
   "cell_type": "code",
   "execution_count": 67,
   "id": "acdafb2e",
   "metadata": {},
   "outputs": [
    {
     "name": "stdout",
     "output_type": "stream",
     "text": [
      "Help on tuple object:\n",
      "\n",
      "class tuple(object)\n",
      " |  tuple(iterable=(), /)\n",
      " |  \n",
      " |  Built-in immutable sequence.\n",
      " |  \n",
      " |  If no argument is given, the constructor returns an empty tuple.\n",
      " |  If iterable is specified the tuple is initialized from iterable's items.\n",
      " |  \n",
      " |  If the argument is a tuple, the return value is the same object.\n",
      " |  \n",
      " |  Built-in subclasses:\n",
      " |      asyncgen_hooks\n",
      " |      UnraisableHookArgs\n",
      " |  \n",
      " |  Methods defined here:\n",
      " |  \n",
      " |  __add__(self, value, /)\n",
      " |      Return self+value.\n",
      " |  \n",
      " |  __contains__(self, key, /)\n",
      " |      Return key in self.\n",
      " |  \n",
      " |  __eq__(self, value, /)\n",
      " |      Return self==value.\n",
      " |  \n",
      " |  __ge__(self, value, /)\n",
      " |      Return self>=value.\n",
      " |  \n",
      " |  __getattribute__(self, name, /)\n",
      " |      Return getattr(self, name).\n",
      " |  \n",
      " |  __getitem__(self, key, /)\n",
      " |      Return self[key].\n",
      " |  \n",
      " |  __getnewargs__(self, /)\n",
      " |  \n",
      " |  __gt__(self, value, /)\n",
      " |      Return self>value.\n",
      " |  \n",
      " |  __hash__(self, /)\n",
      " |      Return hash(self).\n",
      " |  \n",
      " |  __iter__(self, /)\n",
      " |      Implement iter(self).\n",
      " |  \n",
      " |  __le__(self, value, /)\n",
      " |      Return self<=value.\n",
      " |  \n",
      " |  __len__(self, /)\n",
      " |      Return len(self).\n",
      " |  \n",
      " |  __lt__(self, value, /)\n",
      " |      Return self<value.\n",
      " |  \n",
      " |  __mul__(self, value, /)\n",
      " |      Return self*value.\n",
      " |  \n",
      " |  __ne__(self, value, /)\n",
      " |      Return self!=value.\n",
      " |  \n",
      " |  __repr__(self, /)\n",
      " |      Return repr(self).\n",
      " |  \n",
      " |  __rmul__(self, value, /)\n",
      " |      Return value*self.\n",
      " |  \n",
      " |  count(self, value, /)\n",
      " |      Return number of occurrences of value.\n",
      " |  \n",
      " |  index(self, value, start=0, stop=9223372036854775807, /)\n",
      " |      Return first index of value.\n",
      " |      \n",
      " |      Raises ValueError if the value is not present.\n",
      " |  \n",
      " |  ----------------------------------------------------------------------\n",
      " |  Class methods defined here:\n",
      " |  \n",
      " |  __class_getitem__(...) from builtins.type\n",
      " |      See PEP 585\n",
      " |  \n",
      " |  ----------------------------------------------------------------------\n",
      " |  Static methods defined here:\n",
      " |  \n",
      " |  __new__(*args, **kwargs) from builtins.type\n",
      " |      Create and return a new object.  See help(type) for accurate signature.\n",
      "\n"
     ]
    }
   ],
   "source": [
    "help(a_tuple)"
   ]
  },
  {
   "cell_type": "code",
   "execution_count": 68,
   "id": "cd63c061",
   "metadata": {},
   "outputs": [],
   "source": [
    "# Tuples\n",
    "avocado = (1, 2, 3)\n",
    "toothpaste  = [1, 2, 3]"
   ]
  },
  {
   "cell_type": "code",
   "execution_count": 69,
   "id": "1ff43192",
   "metadata": {},
   "outputs": [],
   "source": [
    "toothpaste.append('Toby')"
   ]
  },
  {
   "cell_type": "code",
   "execution_count": 70,
   "id": "d93332c3",
   "metadata": {},
   "outputs": [
    {
     "data": {
      "text/plain": [
       "[1, 2, 3, 'Toby']"
      ]
     },
     "execution_count": 70,
     "metadata": {},
     "output_type": "execute_result"
    }
   ],
   "source": [
    "toothpaste"
   ]
  },
  {
   "cell_type": "code",
   "execution_count": 71,
   "id": "7eef74f5",
   "metadata": {},
   "outputs": [],
   "source": [
    "# Functions\n",
    "def double_this(thing):\n",
    "    result = thing * 2\n",
    "    return result\n",
    "print(\"this does not go in the function\")"
   ]
  },
  {
   "cell_type": "code",
   "execution_count": 72,
   "id": "8f60128d",
   "metadata": {},
   "outputs": [
    {
     "data": {
      "text/plain": [
       "8"
      ]
     },
     "execution_count": 72,
     "metadata": {},
     "output_type": "execute_result"
    }
   ],
   "source": [
    "double_this(4)"
   ]
  },
  {
   "cell_type": "code",
   "execution_count": 73,
   "id": "b172237d",
   "metadata": {},
   "outputs": [],
   "source": [
    "doubled = double_this(4)"
   ]
  },
  {
   "cell_type": "code",
   "execution_count": 74,
   "id": "9a9cb3ee",
   "metadata": {},
   "outputs": [
    {
     "data": {
      "text/plain": [
       "8"
      ]
     },
     "execution_count": 74,
     "metadata": {},
     "output_type": "execute_result"
    }
   ],
   "source": [
    "doubled"
   ]
  },
  {
   "cell_type": "code",
   "execution_count": 75,
   "id": "bd8f9a83",
   "metadata": {},
   "outputs": [
    {
     "ename": "NameError",
     "evalue": "name 'doube_this' is not defined",
     "output_type": "error",
     "traceback": [
      "\u001b[0;31m---------------------------------------------------------------------------\u001b[0m",
      "\u001b[0;31mNameError\u001b[0m                                 Traceback (most recent call last)",
      "Cell \u001b[0;32mIn[75], line 1\u001b[0m\n\u001b[0;32m----> 1\u001b[0m \u001b[43mdoube_this\u001b[49m(\u001b[38;5;124m\"\u001b[39m\u001b[38;5;124mGorilla\u001b[39m\u001b[38;5;124m\"\u001b[39m)\n",
      "\u001b[0;31mNameError\u001b[0m: name 'doube_this' is not defined"
     ]
    }
   ],
   "source": [
    "doube_this(\"Gorilla\")"
   ]
  },
  {
   "cell_type": "code",
   "execution_count": 76,
   "id": "3e2a3a1e",
   "metadata": {},
   "outputs": [
    {
     "data": {
      "text/plain": [
       "'GorillaGorilla'"
      ]
     },
     "execution_count": 76,
     "metadata": {},
     "output_type": "execute_result"
    }
   ],
   "source": [
    "double_this(\"Gorilla\")"
   ]
  },
  {
   "cell_type": "code",
   "execution_count": 77,
   "id": "d205ec43",
   "metadata": {},
   "outputs": [],
   "source": [
    "def multiply_these(first, second):\n",
    "    result = first * second\n",
    "    return result"
   ]
  },
  {
   "cell_type": "code",
   "execution_count": 78,
   "id": "412b2ee6",
   "metadata": {},
   "outputs": [
    {
     "data": {
      "text/plain": [
       "1440"
      ]
     },
     "execution_count": 78,
     "metadata": {},
     "output_type": "execute_result"
    }
   ],
   "source": [
    "multiply_these(16, 90)"
   ]
  },
  {
   "cell_type": "code",
   "execution_count": 79,
   "id": "3dc64397",
   "metadata": {},
   "outputs": [
    {
     "ename": "TypeError",
     "evalue": "multiply_these() missing 1 required positional argument: 'second'",
     "output_type": "error",
     "traceback": [
      "\u001b[0;31m---------------------------------------------------------------------------\u001b[0m",
      "\u001b[0;31mTypeError\u001b[0m                                 Traceback (most recent call last)",
      "Cell \u001b[0;32mIn[79], line 1\u001b[0m\n\u001b[0;32m----> 1\u001b[0m \u001b[43mmultiply_these\u001b[49m\u001b[43m(\u001b[49m\u001b[38;5;241;43m10\u001b[39;49m\u001b[43m)\u001b[49m\n",
      "\u001b[0;31mTypeError\u001b[0m: multiply_these() missing 1 required positional argument: 'second'"
     ]
    }
   ],
   "source": [
    "multiply_these(10)"
   ]
  },
  {
   "cell_type": "code",
   "execution_count": null,
   "id": "8e322a95",
   "metadata": {},
   "outputs": [],
   "source": []
  }
 ],
 "metadata": {
  "kernelspec": {
   "display_name": "Python 3 (ipykernel)",
   "language": "python",
   "name": "python3"
  },
  "language_info": {
   "codemirror_mode": {
    "name": "ipython",
    "version": 3
   },
   "file_extension": ".py",
   "mimetype": "text/x-python",
   "name": "python",
   "nbconvert_exporter": "python",
   "pygments_lexer": "ipython3",
   "version": "3.9.7"
  }
 },
 "nbformat": 4,
 "nbformat_minor": 5
}
